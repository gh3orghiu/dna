{
 "cells": [
  {
   "cell_type": "code",
   "execution_count": 1,
   "metadata": {
    "collapsed": true
   },
   "outputs": [],
   "source": [
    "import pandas as pd\n",
    "import numpy as np\n",
    "import os\n",
    "import glob\n",
    "import matplotlib as mpl\n",
    "import matplotlib.pyplot as plt\n",
    "from matplotlib import cm\n",
    "%matplotlib inline\n",
    "import math"
   ]
  },
  {
   "cell_type": "code",
   "execution_count": 2,
   "metadata": {},
   "outputs": [],
   "source": [
    "#Electronic Energy / H = [ Reactant, TS1, Intermediate, TS2, Product ]\n",
    "raw_e = [-980.705872, -980.68265, -980.684249, -980.681684, -980.685145]"
   ]
  },
  {
   "cell_type": "code",
   "execution_count": 3,
   "metadata": {},
   "outputs": [
    {
     "data": {
      "text/plain": [
       "array([ 0.      ,  0.023222,  0.021623,  0.024188,  0.020727])"
      ]
     },
     "execution_count": 3,
     "metadata": {},
     "output_type": "execute_result"
    }
   ],
   "source": [
    "# Electronic Energy Relative to Reactant / H \n",
    "e_hart = np.array(raw_e) - np.array(raw_e[0])\n",
    "e_hart"
   ]
  },
  {
   "cell_type": "code",
   "execution_count": 4,
   "metadata": {
    "collapsed": true
   },
   "outputs": [],
   "source": [
    "# Conversion Factors\n",
    "hart2kcal = 627.509\n",
    "kcal2j = 4.184"
   ]
  },
  {
   "cell_type": "code",
   "execution_count": 5,
   "metadata": {},
   "outputs": [
    {
     "data": {
      "text/plain": [
       "array([  0.        ,  14.572014  ,  13.56862711,  15.17818769,  13.00637904])"
      ]
     },
     "execution_count": 5,
     "metadata": {},
     "output_type": "execute_result"
    }
   ],
   "source": [
    "# Electronic Energy Relative to Reactant / kcal/mol\n",
    "e_kcal = e_hart * hart2kcal\n",
    "e_kcal"
   ]
  },
  {
   "cell_type": "code",
   "execution_count": 6,
   "metadata": {},
   "outputs": [
    {
     "data": {
      "text/plain": [
       "array([  0.        ,  60.96930657,  56.77113582,  63.5055373 ,  54.41868992])"
      ]
     },
     "execution_count": 6,
     "metadata": {},
     "output_type": "execute_result"
    }
   ],
   "source": [
    "# Electronic Energy Relative to Reactant / j/mol\n",
    "e_j = e_kcal*kcal2j\n",
    "e_j"
   ]
  },
  {
   "cell_type": "code",
   "execution_count": 7,
   "metadata": {},
   "outputs": [],
   "source": [
    "# Constants\n",
    "h = 6.62607004*10**(-34) # Js\n",
    "kb = 1.3807*10**(-23) #J/K\n",
    "T = 300 # K \n",
    "R= 8.3144598 #J  K−1 mol−1\n",
    "kbT_h = (kb*T)/h # s-1"
   ]
  },
  {
   "cell_type": "markdown",
   "metadata": {},
   "source": [
    "Transition State Theory"
   ]
  },
  {
   "cell_type": "code",
   "execution_count": 8,
   "metadata": {},
   "outputs": [
    {
     "data": {
      "text/latex": [
       "$k(T) = \\kappa(T)\\frac{k_bT}{h} \\mathrm{exp} \\biggl(-\\frac{\\Delta G^\\ddagger}{RT}\\biggr)$"
      ],
      "text/plain": [
       "<IPython.core.display.Latex object>"
      ]
     },
     "metadata": {},
     "output_type": "display_data"
    }
   ],
   "source": [
    "%%latex\n",
    "$k(T) = \\kappa(T)\\frac{k_bT}{h} \\mathrm{exp} \\biggl(-\\frac{\\Delta G^\\ddagger}{RT}\\biggr)$"
   ]
  },
  {
   "cell_type": "markdown",
   "metadata": {},
   "source": [
    "Tunnelling correction"
   ]
  },
  {
   "cell_type": "code",
   "execution_count": 9,
   "metadata": {},
   "outputs": [
    {
     "data": {
      "text/latex": [
       "$\\kappa(T) = 1 + \\frac{1}{24} {\\biggl(\\frac{h \\mathrm{Im}(v^\\ddagger)}{k_bT}\\biggr)}^2$"
      ],
      "text/plain": [
       "<IPython.core.display.Latex object>"
      ]
     },
     "metadata": {},
     "output_type": "display_data"
    }
   ],
   "source": [
    "%%latex\n",
    "$\\kappa(T) = 1 + \\frac{1}{24} {\\biggl(\\frac{h \\mathrm{Im}(v^\\ddagger)}{k_bT}\\biggr)}^2$"
   ]
  },
  {
   "cell_type": "markdown",
   "metadata": {},
   "source": [
    "Values:"
   ]
  },
  {
   "cell_type": "markdown",
   "metadata": {},
   "source": [
    "TS1 Electronic Energy (Relative to reactant), $\\Delta$E$_1$$^\\ddagger$ = 14.57 kcal/mol or 60.97 j/mol"
   ]
  },
  {
   "cell_type": "markdown",
   "metadata": {},
   "source": [
    "TS1 Imaginary Frequency, 966.627 cm$^{-1}$ or 96662.7 m$^{-1}$"
   ]
  },
  {
   "cell_type": "markdown",
   "metadata": {},
   "source": [
    "Intermediate Electronic energy (Relative to reactant), $\\Delta$E$_{Int}$ = 13.57 kcal/mol or 56.77 j/mol"
   ]
  },
  {
   "cell_type": "markdown",
   "metadata": {},
   "source": [
    "TS2 Electronic Energy (Relative to reactant), $\\Delta$E$_2$$^\\ddagger$ = 15.18 kcal/mol or 63.51 j/mol"
   ]
  },
  {
   "cell_type": "markdown",
   "metadata": {},
   "source": [
    "TS2 Imaginary Frequency, 863.314 cm$^{-1}$ or 86331.1 m$^{-1}$"
   ]
  },
  {
   "cell_type": "code",
   "execution_count": 33,
   "metadata": {},
   "outputs": [
    {
     "name": "stdout",
     "output_type": "stream",
     "text": [
      "1.0000000806979508 s^2 m^-2\n"
     ]
    }
   ],
   "source": [
    "# Tunneling for TS1\n",
    "tun1 = 1 + (1/24) * ((h*96662.7)/kb*T)**2 \n",
    "print(tun1, 's^2 m^-2')"
   ]
  },
  {
   "cell_type": "code",
   "execution_count": 31,
   "metadata": {},
   "outputs": [
    {
     "name": "stdout",
     "output_type": "stream",
     "text": [
      "6.10E+12 s^-1\n"
     ]
    }
   ],
   "source": [
    "# Forward rate without tunnelling correction\n",
    "k_nocorr1 = kbT_h*math.exp(-( 60.96930657/(R*T)) )\n",
    "print('%.2E' % k_nocorr1 , 's^-1')"
   ]
  },
  {
   "cell_type": "code",
   "execution_count": 34,
   "metadata": {},
   "outputs": [
    {
     "name": "stdout",
     "output_type": "stream",
     "text": [
      "6.10E+12 s m^-2\n"
     ]
    }
   ],
   "source": [
    "# Forward rate with tunnelling correction\n",
    "k_corr1 = tun1*kbT_h*math.exp(-( 60.96930657/(R*T)) )\n",
    "print('%.2E' % k_corr1 , 's m^-2')"
   ]
  },
  {
   "cell_type": "code",
   "execution_count": 35,
   "metadata": {},
   "outputs": [
    {
     "name": "stdout",
     "output_type": "stream",
     "text": [
      "1.000000064369363 s^2 m^-2\n"
     ]
    }
   ],
   "source": [
    "# Tunnelling for TS2\n",
    "tun2 = 1 + (1/24) * ((h* 86331.1)/kb*T)**2 \n",
    "print(tun2, 's^2 m^-2')"
   ]
  },
  {
   "cell_type": "code",
   "execution_count": 36,
   "metadata": {},
   "outputs": [
    {
     "name": "stdout",
     "output_type": "stream",
     "text": [
      "6.23E+12 s m^-2\n"
     ]
    }
   ],
   "source": [
    "# Forward rate without tunnelling correction\n",
    "k_nocorr2 = kbT_h*math.exp(-( (63.51-56.77)/(R*T)) )\n",
    "print('%.2E' % k_nocorr2 , 's^-1')"
   ]
  },
  {
   "cell_type": "code",
   "execution_count": 37,
   "metadata": {},
   "outputs": [
    {
     "data": {
      "text/plain": [
       "('6.23E+12', 's m^-2')"
      ]
     },
     "execution_count": 37,
     "metadata": {},
     "output_type": "execute_result"
    }
   ],
   "source": [
    "k_corr2 = tun2 * kbT_h*math.exp(-( (63.51-56.77)/(R*T)) )\n",
    "('%.2E' % k_corr2, 's m^-2')"
   ]
  },
  {
   "cell_type": "code",
   "execution_count": null,
   "metadata": {
    "collapsed": true
   },
   "outputs": [],
   "source": []
  }
 ],
 "metadata": {
  "kernelspec": {
   "display_name": "Python 3",
   "language": "python",
   "name": "python3"
  },
  "language_info": {
   "codemirror_mode": {
    "name": "ipython",
    "version": 3
   },
   "file_extension": ".py",
   "mimetype": "text/x-python",
   "name": "python",
   "nbconvert_exporter": "python",
   "pygments_lexer": "ipython3",
   "version": "3.6.3"
  }
 },
 "nbformat": 4,
 "nbformat_minor": 2
}
